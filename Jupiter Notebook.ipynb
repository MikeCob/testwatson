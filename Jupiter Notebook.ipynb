{
    "cells": [
        {
            "cell_type": "markdown",
            "metadata": {},
            "source": "# Description\nThis notebook analyzes and visualizes precipitation data."
        },
        {
            "cell_type": "code",
            "execution_count": 2,
            "metadata": {},
            "outputs": [
                {
                    "data": {
                        "text/html": "<div>\n<style scoped>\n    .dataframe tbody tr th:only-of-type {\n        vertical-align: middle;\n    }\n\n    .dataframe tbody tr th {\n        vertical-align: top;\n    }\n\n    .dataframe thead th {\n        text-align: right;\n    }\n</style>\n<table border=\"1\" class=\"dataframe\">\n  <thead>\n    <tr style=\"text-align: right;\">\n      <th></th>\n      <th>Year</th>\n      <th>Month</th>\n      <th>Date</th>\n      <th>CRU3 NH</th>\n      <th>CRU3 SH</th>\n      <th>CRU3 GL</th>\n      <th>CRU3V NH</th>\n      <th>CRU3V SH</th>\n      <th>CRU3V GL</th>\n      <th>HadCRU3 NH</th>\n      <th>...</th>\n      <th>UAH GL</th>\n      <th>NCDCland NH</th>\n      <th>NCDCland SH</th>\n      <th>NCDCland GL0</th>\n      <th>NCDCocean NH</th>\n      <th>NCDCocean SH</th>\n      <th>NCDCocean GL</th>\n      <th>NCDCland_ocean NH</th>\n      <th>NCDCland_ocean SH</th>\n      <th>NCDCland_ocean GL</th>\n    </tr>\n  </thead>\n  <tbody>\n    <tr>\n      <th>0</th>\n      <td>1850</td>\n      <td>1</td>\n      <td>1850.042</td>\n      <td>-2.98</td>\n      <td>-1.26</td>\n      <td>-2.12</td>\n      <td>-2.86</td>\n      <td>-1.16</td>\n      <td>-2.01</td>\n      <td>-1.04</td>\n      <td>...</td>\n      <td>-999.9</td>\n      <td>-999.9</td>\n      <td>-999.9</td>\n      <td>-999.9</td>\n      <td>-999.9</td>\n      <td>-999.9</td>\n      <td>-999.9</td>\n      <td>-999.9</td>\n      <td>-999.9</td>\n      <td>-999.9</td>\n    </tr>\n    <tr>\n      <th>1</th>\n      <td>1850</td>\n      <td>2</td>\n      <td>1850.125</td>\n      <td>0.30</td>\n      <td>-1.56</td>\n      <td>-0.63</td>\n      <td>0.23</td>\n      <td>-1.42</td>\n      <td>-0.59</td>\n      <td>-0.40</td>\n      <td>...</td>\n      <td>-999.9</td>\n      <td>-999.9</td>\n      <td>-999.9</td>\n      <td>-999.9</td>\n      <td>-999.9</td>\n      <td>-999.9</td>\n      <td>-999.9</td>\n      <td>-999.9</td>\n      <td>-999.9</td>\n      <td>-999.9</td>\n    </tr>\n    <tr>\n      <th>2</th>\n      <td>1850</td>\n      <td>3</td>\n      <td>1850.208</td>\n      <td>-1.99</td>\n      <td>0.44</td>\n      <td>-0.77</td>\n      <td>-1.90</td>\n      <td>0.28</td>\n      <td>-0.81</td>\n      <td>-1.07</td>\n      <td>...</td>\n      <td>-999.9</td>\n      <td>-999.9</td>\n      <td>-999.9</td>\n      <td>-999.9</td>\n      <td>-999.9</td>\n      <td>-999.9</td>\n      <td>-999.9</td>\n      <td>-999.9</td>\n      <td>-999.9</td>\n      <td>-999.9</td>\n    </tr>\n    <tr>\n      <th>3</th>\n      <td>1850</td>\n      <td>4</td>\n      <td>1850.292</td>\n      <td>-1.43</td>\n      <td>-0.86</td>\n      <td>-1.14</td>\n      <td>-1.38</td>\n      <td>-0.84</td>\n      <td>-1.11</td>\n      <td>-0.82</td>\n      <td>...</td>\n      <td>-999.9</td>\n      <td>-999.9</td>\n      <td>-999.9</td>\n      <td>-999.9</td>\n      <td>-999.9</td>\n      <td>-999.9</td>\n      <td>-999.9</td>\n      <td>-999.9</td>\n      <td>-999.9</td>\n      <td>-999.9</td>\n    </tr>\n    <tr>\n      <th>4</th>\n      <td>1850</td>\n      <td>5</td>\n      <td>1850.375</td>\n      <td>-1.37</td>\n      <td>-0.46</td>\n      <td>-0.92</td>\n      <td>-1.31</td>\n      <td>-0.50</td>\n      <td>-0.91</td>\n      <td>-0.72</td>\n      <td>...</td>\n      <td>-999.9</td>\n      <td>-999.9</td>\n      <td>-999.9</td>\n      <td>-999.9</td>\n      <td>-999.9</td>\n      <td>-999.9</td>\n      <td>-999.9</td>\n      <td>-999.9</td>\n      <td>-999.9</td>\n      <td>-999.9</td>\n    </tr>\n  </tbody>\n</table>\n<p>5 rows \u00d7 39 columns</p>\n</div>",
                        "text/plain": "   Year  Month      Date  CRU3 NH  CRU3 SH  CRU3 GL  CRU3V NH  CRU3V SH  \\\n0  1850      1  1850.042    -2.98    -1.26    -2.12     -2.86     -1.16   \n1  1850      2  1850.125     0.30    -1.56    -0.63      0.23     -1.42   \n2  1850      3  1850.208    -1.99     0.44    -0.77     -1.90      0.28   \n3  1850      4  1850.292    -1.43    -0.86    -1.14     -1.38     -0.84   \n4  1850      5  1850.375    -1.37    -0.46    -0.92     -1.31     -0.50   \n\n   CRU3V GL  HadCRU3 NH  ...  UAH GL  NCDCland NH  NCDCland SH  NCDCland GL0  \\\n0     -2.01       -1.04  ...  -999.9       -999.9       -999.9        -999.9   \n1     -0.59       -0.40  ...  -999.9       -999.9       -999.9        -999.9   \n2     -0.81       -1.07  ...  -999.9       -999.9       -999.9        -999.9   \n3     -1.11       -0.82  ...  -999.9       -999.9       -999.9        -999.9   \n4     -0.91       -0.72  ...  -999.9       -999.9       -999.9        -999.9   \n\n   NCDCocean NH  NCDCocean SH  NCDCocean GL  NCDCland_ocean NH  \\\n0        -999.9        -999.9        -999.9             -999.9   \n1        -999.9        -999.9        -999.9             -999.9   \n2        -999.9        -999.9        -999.9             -999.9   \n3        -999.9        -999.9        -999.9             -999.9   \n4        -999.9        -999.9        -999.9             -999.9   \n\n    NCDCland_ocean SH   NCDCland_ocean GL  \n0              -999.9              -999.9  \n1              -999.9              -999.9  \n2              -999.9              -999.9  \n3              -999.9              -999.9  \n4              -999.9              -999.9  \n\n[5 rows x 39 columns]"
                    },
                    "execution_count": 2,
                    "metadata": {},
                    "output_type": "execute_result"
                }
            ],
            "source": "# The code was removed by Watson Studio for sharing."
        },
        {
            "cell_type": "code",
            "execution_count": null,
            "metadata": {},
            "outputs": [],
            "source": ""
        }
    ],
    "metadata": {
        "kernelspec": {
            "display_name": "Python 3.9",
            "language": "python",
            "name": "python3"
        },
        "language_info": {
            "codemirror_mode": {
                "name": "ipython",
                "version": 3
            },
            "file_extension": ".py",
            "mimetype": "text/x-python",
            "name": "python",
            "nbconvert_exporter": "python",
            "pygments_lexer": "ipython3",
            "version": "3.9.12"
        }
    },
    "nbformat": 4,
    "nbformat_minor": 1
}